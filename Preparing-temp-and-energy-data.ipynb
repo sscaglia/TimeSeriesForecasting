{
 "cells": [
  {
   "cell_type": "code",
   "execution_count": null,
   "id": "978539d9-f0ab-44bc-9f1b-20bfb9a2f763",
   "metadata": {},
   "outputs": [],
   "source": [
    "import pandas as pd"
   ]
  },
  {
   "cell_type": "markdown",
   "id": "d4dbd532-dd4a-42c4-9d6b-f4eb2af06f31",
   "metadata": {},
   "source": [
    "# Import temperature data"
   ]
  },
  {
   "cell_type": "code",
   "execution_count": null,
   "id": "4e20f342-1f1f-4ec6-9922-f6d9b26e7531",
   "metadata": {},
   "outputs": [],
   "source": [
    "df = pd.read_csv(\"C:\\SS\\Projects\\TimeSeries\\data\\hr_temp_20170201-20200131_subset.csv\")"
   ]
  },
  {
   "cell_type": "markdown",
   "id": "a50e2803-a01b-4c38-9da3-45a267f43204",
   "metadata": {},
   "source": [
    "# exploring the data"
   ]
  },
  {
   "cell_type": "code",
   "execution_count": 4,
   "id": "1c1f6a4c-4933-4d0f-a702-e1fd2f4959ad",
   "metadata": {},
   "outputs": [
    {
     "data": {
      "text/html": [
       "<div>\n",
       "<style scoped>\n",
       "    .dataframe tbody tr th:only-of-type {\n",
       "        vertical-align: middle;\n",
       "    }\n",
       "\n",
       "    .dataframe tbody tr th {\n",
       "        vertical-align: top;\n",
       "    }\n",
       "\n",
       "    .dataframe thead th {\n",
       "        text-align: right;\n",
       "    }\n",
       "</style>\n",
       "<table border=\"1\" class=\"dataframe\">\n",
       "  <thead>\n",
       "    <tr style=\"text-align: right;\">\n",
       "      <th></th>\n",
       "      <th>STATION</th>\n",
       "      <th>SOURCE</th>\n",
       "      <th>HourlyDryBulbTemperature</th>\n",
       "    </tr>\n",
       "  </thead>\n",
       "  <tbody>\n",
       "    <tr>\n",
       "      <th>count</th>\n",
       "      <td>2.628000e+04</td>\n",
       "      <td>26280.000000</td>\n",
       "      <td>26243.000000</td>\n",
       "    </tr>\n",
       "    <tr>\n",
       "      <th>mean</th>\n",
       "      <td>7.252051e+10</td>\n",
       "      <td>6.971689</td>\n",
       "      <td>52.964410</td>\n",
       "    </tr>\n",
       "    <tr>\n",
       "      <th>std</th>\n",
       "      <td>0.000000e+00</td>\n",
       "      <td>0.226900</td>\n",
       "      <td>18.911892</td>\n",
       "    </tr>\n",
       "    <tr>\n",
       "      <th>min</th>\n",
       "      <td>7.252051e+10</td>\n",
       "      <td>4.000000</td>\n",
       "      <td>-5.000000</td>\n",
       "    </tr>\n",
       "    <tr>\n",
       "      <th>25%</th>\n",
       "      <td>7.252051e+10</td>\n",
       "      <td>7.000000</td>\n",
       "      <td>37.000000</td>\n",
       "    </tr>\n",
       "    <tr>\n",
       "      <th>50%</th>\n",
       "      <td>7.252051e+10</td>\n",
       "      <td>7.000000</td>\n",
       "      <td>55.000000</td>\n",
       "    </tr>\n",
       "    <tr>\n",
       "      <th>75%</th>\n",
       "      <td>7.252051e+10</td>\n",
       "      <td>7.000000</td>\n",
       "      <td>69.000000</td>\n",
       "    </tr>\n",
       "    <tr>\n",
       "      <th>max</th>\n",
       "      <td>7.252051e+10</td>\n",
       "      <td>7.000000</td>\n",
       "      <td>92.000000</td>\n",
       "    </tr>\n",
       "  </tbody>\n",
       "</table>\n",
       "</div>"
      ],
      "text/plain": [
       "            STATION        SOURCE  HourlyDryBulbTemperature\n",
       "count  2.628000e+04  26280.000000              26243.000000\n",
       "mean   7.252051e+10      6.971689                 52.964410\n",
       "std    0.000000e+00      0.226900                 18.911892\n",
       "min    7.252051e+10      4.000000                 -5.000000\n",
       "25%    7.252051e+10      7.000000                 37.000000\n",
       "50%    7.252051e+10      7.000000                 55.000000\n",
       "75%    7.252051e+10      7.000000                 69.000000\n",
       "max    7.252051e+10      7.000000                 92.000000"
      ]
     },
     "execution_count": 4,
     "metadata": {},
     "output_type": "execute_result"
    }
   ],
   "source": [
    "df.describe()"
   ]
  },
  {
   "cell_type": "code",
   "execution_count": 26,
   "id": "e9077d3a-0a36-4571-8a43-9b4a8e206c3b",
   "metadata": {},
   "outputs": [
    {
     "data": {
      "text/plain": [
       "date       26280\n",
       "temp       26243\n",
       "hour       26280\n",
       "weekday    26280\n",
       "month      26280\n",
       "year       26280\n",
       "dtype: int64"
      ]
     },
     "execution_count": 26,
     "metadata": {},
     "output_type": "execute_result"
    }
   ],
   "source": [
    "df.count()"
   ]
  },
  {
   "cell_type": "markdown",
   "id": "1401e9e9-e3c8-4cc0-83b7-8d269677c27a",
   "metadata": {},
   "source": [
    "# clean up dataframe"
   ]
  },
  {
   "cell_type": "code",
   "execution_count": 6,
   "id": "604ed2be-442a-4429-aa6b-20f21db95545",
   "metadata": {},
   "outputs": [],
   "source": [
    "df.drop(['STATION','REPORT_TYPE','SOURCE'], inplace=True, axis=1)"
   ]
  },
  {
   "cell_type": "code",
   "execution_count": 12,
   "id": "ee07965b-e9f6-4caa-a22f-6a84265fdcab",
   "metadata": {},
   "outputs": [],
   "source": [
    "df = df.rename(columns = {'DATE': 'date', 'HourlyDryBulbTemperature': 'temp'}, inplace = False)"
   ]
  },
  {
   "cell_type": "markdown",
   "id": "07f628e4-dae2-4caa-91d8-ac50d2914a93",
   "metadata": {},
   "source": [
    "# convert date to datetime64"
   ]
  },
  {
   "cell_type": "code",
   "execution_count": 18,
   "id": "aed03363-e5d4-4d6e-9d22-029c3f559cf9",
   "metadata": {},
   "outputs": [],
   "source": [
    "df['date'] = pd.to_datetime(df[\"date\"])"
   ]
  },
  {
   "cell_type": "code",
   "execution_count": 25,
   "id": "ee7c0fa4-6b22-4296-ac1c-241210a12ccb",
   "metadata": {},
   "outputs": [
    {
     "data": {
      "text/plain": [
       "date       datetime64[ns]\n",
       "temp              float64\n",
       "hour                int64\n",
       "weekday             int64\n",
       "month               int64\n",
       "year                int64\n",
       "dtype: object"
      ]
     },
     "execution_count": 25,
     "metadata": {},
     "output_type": "execute_result"
    }
   ],
   "source": [
    "df.dtypes"
   ]
  },
  {
   "cell_type": "markdown",
   "id": "06b773e0-8a21-48f2-953f-267390a7b3d3",
   "metadata": {},
   "source": [
    "# add additional columns"
   ]
  },
  {
   "cell_type": "code",
   "execution_count": 20,
   "id": "0cfd8364-f2da-411f-9fac-c94dd5736c25",
   "metadata": {},
   "outputs": [],
   "source": [
    "df['hour'] = df['date'].dt.hour"
   ]
  },
  {
   "cell_type": "code",
   "execution_count": 21,
   "id": "2e21aa7a-37bc-4d13-8f02-15e56d36d82e",
   "metadata": {},
   "outputs": [],
   "source": [
    "df['weekday'] = df['date'].dt.dayofweek"
   ]
  },
  {
   "cell_type": "code",
   "execution_count": 22,
   "id": "84135a7f-9389-4b66-96f1-8dd72963d03b",
   "metadata": {},
   "outputs": [],
   "source": [
    "df['month'] = df['date'].dt.month"
   ]
  },
  {
   "cell_type": "code",
   "execution_count": 23,
   "id": "5f00c9e0-9793-41ee-92fc-6a38bc2c595e",
   "metadata": {},
   "outputs": [],
   "source": [
    "df['year'] = df['date'].dt.year"
   ]
  },
  {
   "cell_type": "code",
   "execution_count": 24,
   "id": "b532b868-c4a0-46e6-87fe-ac30251caf7f",
   "metadata": {},
   "outputs": [
    {
     "data": {
      "text/html": [
       "<div>\n",
       "<style scoped>\n",
       "    .dataframe tbody tr th:only-of-type {\n",
       "        vertical-align: middle;\n",
       "    }\n",
       "\n",
       "    .dataframe tbody tr th {\n",
       "        vertical-align: top;\n",
       "    }\n",
       "\n",
       "    .dataframe thead th {\n",
       "        text-align: right;\n",
       "    }\n",
       "</style>\n",
       "<table border=\"1\" class=\"dataframe\">\n",
       "  <thead>\n",
       "    <tr style=\"text-align: right;\">\n",
       "      <th></th>\n",
       "      <th>date</th>\n",
       "      <th>temp</th>\n",
       "      <th>hour</th>\n",
       "      <th>weekday</th>\n",
       "      <th>month</th>\n",
       "      <th>year</th>\n",
       "    </tr>\n",
       "  </thead>\n",
       "  <tbody>\n",
       "    <tr>\n",
       "      <th>0</th>\n",
       "      <td>2017-02-01 00:53:00</td>\n",
       "      <td>37.0</td>\n",
       "      <td>0</td>\n",
       "      <td>2</td>\n",
       "      <td>2</td>\n",
       "      <td>2017</td>\n",
       "    </tr>\n",
       "    <tr>\n",
       "      <th>1</th>\n",
       "      <td>2017-02-01 01:53:00</td>\n",
       "      <td>37.0</td>\n",
       "      <td>1</td>\n",
       "      <td>2</td>\n",
       "      <td>2</td>\n",
       "      <td>2017</td>\n",
       "    </tr>\n",
       "    <tr>\n",
       "      <th>2</th>\n",
       "      <td>2017-02-01 02:53:00</td>\n",
       "      <td>36.0</td>\n",
       "      <td>2</td>\n",
       "      <td>2</td>\n",
       "      <td>2</td>\n",
       "      <td>2017</td>\n",
       "    </tr>\n",
       "    <tr>\n",
       "      <th>3</th>\n",
       "      <td>2017-02-01 03:53:00</td>\n",
       "      <td>36.0</td>\n",
       "      <td>3</td>\n",
       "      <td>2</td>\n",
       "      <td>2</td>\n",
       "      <td>2017</td>\n",
       "    </tr>\n",
       "    <tr>\n",
       "      <th>4</th>\n",
       "      <td>2017-02-01 04:53:00</td>\n",
       "      <td>36.0</td>\n",
       "      <td>4</td>\n",
       "      <td>2</td>\n",
       "      <td>2</td>\n",
       "      <td>2017</td>\n",
       "    </tr>\n",
       "  </tbody>\n",
       "</table>\n",
       "</div>"
      ],
      "text/plain": [
       "                 date  temp  hour  weekday  month  year\n",
       "0 2017-02-01 00:53:00  37.0     0        2      2  2017\n",
       "1 2017-02-01 01:53:00  37.0     1        2      2  2017\n",
       "2 2017-02-01 02:53:00  36.0     2        2      2  2017\n",
       "3 2017-02-01 03:53:00  36.0     3        2      2  2017\n",
       "4 2017-02-01 04:53:00  36.0     4        2      2  2017"
      ]
     },
     "execution_count": 24,
     "metadata": {},
     "output_type": "execute_result"
    }
   ],
   "source": [
    "df.head()"
   ]
  },
  {
   "cell_type": "markdown",
   "id": "2754f015-b3c7-4809-b354-8cfadda7a14c",
   "metadata": {},
   "source": [
    "# checking for NaN values in temp"
   ]
  },
  {
   "cell_type": "code",
   "execution_count": null,
   "id": "7301caf7-7930-42c1-bfc8-5bd59c54f818",
   "metadata": {},
   "outputs": [],
   "source": [
    "bool_series = pd.isnull(df['temp'])"
   ]
  },
  {
   "cell_type": "code",
   "execution_count": 33,
   "id": "25f72e8e-dfd9-4a37-8749-bbe92bc16456",
   "metadata": {},
   "outputs": [
    {
     "data": {
      "text/html": [
       "<div>\n",
       "<style scoped>\n",
       "    .dataframe tbody tr th:only-of-type {\n",
       "        vertical-align: middle;\n",
       "    }\n",
       "\n",
       "    .dataframe tbody tr th {\n",
       "        vertical-align: top;\n",
       "    }\n",
       "\n",
       "    .dataframe thead th {\n",
       "        text-align: right;\n",
       "    }\n",
       "</style>\n",
       "<table border=\"1\" class=\"dataframe\">\n",
       "  <thead>\n",
       "    <tr style=\"text-align: right;\">\n",
       "      <th></th>\n",
       "      <th>date</th>\n",
       "      <th>temp</th>\n",
       "      <th>hour</th>\n",
       "      <th>weekday</th>\n",
       "      <th>month</th>\n",
       "      <th>year</th>\n",
       "    </tr>\n",
       "  </thead>\n",
       "  <tbody>\n",
       "    <tr>\n",
       "      <th>15156</th>\n",
       "      <td>2018-10-25 12:53:00</td>\n",
       "      <td>NaN</td>\n",
       "      <td>12</td>\n",
       "      <td>3</td>\n",
       "      <td>10</td>\n",
       "      <td>2018</td>\n",
       "    </tr>\n",
       "    <tr>\n",
       "      <th>16610</th>\n",
       "      <td>2018-12-25 02:53:00</td>\n",
       "      <td>NaN</td>\n",
       "      <td>2</td>\n",
       "      <td>1</td>\n",
       "      <td>12</td>\n",
       "      <td>2018</td>\n",
       "    </tr>\n",
       "    <tr>\n",
       "      <th>16611</th>\n",
       "      <td>2018-12-25 03:53:00</td>\n",
       "      <td>NaN</td>\n",
       "      <td>3</td>\n",
       "      <td>1</td>\n",
       "      <td>12</td>\n",
       "      <td>2018</td>\n",
       "    </tr>\n",
       "    <tr>\n",
       "      <th>16612</th>\n",
       "      <td>2018-12-25 04:53:00</td>\n",
       "      <td>NaN</td>\n",
       "      <td>4</td>\n",
       "      <td>1</td>\n",
       "      <td>12</td>\n",
       "      <td>2018</td>\n",
       "    </tr>\n",
       "    <tr>\n",
       "      <th>16613</th>\n",
       "      <td>2018-12-25 05:53:00</td>\n",
       "      <td>NaN</td>\n",
       "      <td>5</td>\n",
       "      <td>1</td>\n",
       "      <td>12</td>\n",
       "      <td>2018</td>\n",
       "    </tr>\n",
       "    <tr>\n",
       "      <th>16614</th>\n",
       "      <td>2018-12-25 06:53:00</td>\n",
       "      <td>NaN</td>\n",
       "      <td>6</td>\n",
       "      <td>1</td>\n",
       "      <td>12</td>\n",
       "      <td>2018</td>\n",
       "    </tr>\n",
       "    <tr>\n",
       "      <th>16615</th>\n",
       "      <td>2018-12-25 07:53:00</td>\n",
       "      <td>NaN</td>\n",
       "      <td>7</td>\n",
       "      <td>1</td>\n",
       "      <td>12</td>\n",
       "      <td>2018</td>\n",
       "    </tr>\n",
       "    <tr>\n",
       "      <th>16616</th>\n",
       "      <td>2018-12-25 08:53:00</td>\n",
       "      <td>NaN</td>\n",
       "      <td>8</td>\n",
       "      <td>1</td>\n",
       "      <td>12</td>\n",
       "      <td>2018</td>\n",
       "    </tr>\n",
       "    <tr>\n",
       "      <th>16617</th>\n",
       "      <td>2018-12-25 09:53:00</td>\n",
       "      <td>NaN</td>\n",
       "      <td>9</td>\n",
       "      <td>1</td>\n",
       "      <td>12</td>\n",
       "      <td>2018</td>\n",
       "    </tr>\n",
       "    <tr>\n",
       "      <th>16618</th>\n",
       "      <td>2018-12-25 10:53:00</td>\n",
       "      <td>NaN</td>\n",
       "      <td>10</td>\n",
       "      <td>1</td>\n",
       "      <td>12</td>\n",
       "      <td>2018</td>\n",
       "    </tr>\n",
       "    <tr>\n",
       "      <th>16619</th>\n",
       "      <td>2018-12-25 11:53:00</td>\n",
       "      <td>NaN</td>\n",
       "      <td>11</td>\n",
       "      <td>1</td>\n",
       "      <td>12</td>\n",
       "      <td>2018</td>\n",
       "    </tr>\n",
       "    <tr>\n",
       "      <th>16620</th>\n",
       "      <td>2018-12-25 12:53:00</td>\n",
       "      <td>NaN</td>\n",
       "      <td>12</td>\n",
       "      <td>1</td>\n",
       "      <td>12</td>\n",
       "      <td>2018</td>\n",
       "    </tr>\n",
       "    <tr>\n",
       "      <th>16621</th>\n",
       "      <td>2018-12-25 13:53:00</td>\n",
       "      <td>NaN</td>\n",
       "      <td>13</td>\n",
       "      <td>1</td>\n",
       "      <td>12</td>\n",
       "      <td>2018</td>\n",
       "    </tr>\n",
       "    <tr>\n",
       "      <th>16622</th>\n",
       "      <td>2018-12-25 14:53:00</td>\n",
       "      <td>NaN</td>\n",
       "      <td>14</td>\n",
       "      <td>1</td>\n",
       "      <td>12</td>\n",
       "      <td>2018</td>\n",
       "    </tr>\n",
       "    <tr>\n",
       "      <th>16623</th>\n",
       "      <td>2018-12-25 15:53:00</td>\n",
       "      <td>NaN</td>\n",
       "      <td>15</td>\n",
       "      <td>1</td>\n",
       "      <td>12</td>\n",
       "      <td>2018</td>\n",
       "    </tr>\n",
       "    <tr>\n",
       "      <th>16624</th>\n",
       "      <td>2018-12-25 16:53:00</td>\n",
       "      <td>NaN</td>\n",
       "      <td>16</td>\n",
       "      <td>1</td>\n",
       "      <td>12</td>\n",
       "      <td>2018</td>\n",
       "    </tr>\n",
       "    <tr>\n",
       "      <th>16625</th>\n",
       "      <td>2018-12-25 17:53:00</td>\n",
       "      <td>NaN</td>\n",
       "      <td>17</td>\n",
       "      <td>1</td>\n",
       "      <td>12</td>\n",
       "      <td>2018</td>\n",
       "    </tr>\n",
       "    <tr>\n",
       "      <th>16626</th>\n",
       "      <td>2018-12-25 18:53:00</td>\n",
       "      <td>NaN</td>\n",
       "      <td>18</td>\n",
       "      <td>1</td>\n",
       "      <td>12</td>\n",
       "      <td>2018</td>\n",
       "    </tr>\n",
       "    <tr>\n",
       "      <th>16627</th>\n",
       "      <td>2018-12-25 19:53:00</td>\n",
       "      <td>NaN</td>\n",
       "      <td>19</td>\n",
       "      <td>1</td>\n",
       "      <td>12</td>\n",
       "      <td>2018</td>\n",
       "    </tr>\n",
       "    <tr>\n",
       "      <th>16628</th>\n",
       "      <td>2018-12-25 20:53:00</td>\n",
       "      <td>NaN</td>\n",
       "      <td>20</td>\n",
       "      <td>1</td>\n",
       "      <td>12</td>\n",
       "      <td>2018</td>\n",
       "    </tr>\n",
       "    <tr>\n",
       "      <th>16629</th>\n",
       "      <td>2018-12-25 21:53:00</td>\n",
       "      <td>NaN</td>\n",
       "      <td>21</td>\n",
       "      <td>1</td>\n",
       "      <td>12</td>\n",
       "      <td>2018</td>\n",
       "    </tr>\n",
       "    <tr>\n",
       "      <th>16630</th>\n",
       "      <td>2018-12-25 22:53:00</td>\n",
       "      <td>NaN</td>\n",
       "      <td>22</td>\n",
       "      <td>1</td>\n",
       "      <td>12</td>\n",
       "      <td>2018</td>\n",
       "    </tr>\n",
       "    <tr>\n",
       "      <th>16631</th>\n",
       "      <td>2018-12-25 23:53:00</td>\n",
       "      <td>NaN</td>\n",
       "      <td>23</td>\n",
       "      <td>1</td>\n",
       "      <td>12</td>\n",
       "      <td>2018</td>\n",
       "    </tr>\n",
       "    <tr>\n",
       "      <th>16632</th>\n",
       "      <td>2018-12-26 00:53:00</td>\n",
       "      <td>NaN</td>\n",
       "      <td>0</td>\n",
       "      <td>2</td>\n",
       "      <td>12</td>\n",
       "      <td>2018</td>\n",
       "    </tr>\n",
       "    <tr>\n",
       "      <th>16633</th>\n",
       "      <td>2018-12-26 01:53:00</td>\n",
       "      <td>NaN</td>\n",
       "      <td>1</td>\n",
       "      <td>2</td>\n",
       "      <td>12</td>\n",
       "      <td>2018</td>\n",
       "    </tr>\n",
       "    <tr>\n",
       "      <th>16634</th>\n",
       "      <td>2018-12-26 02:53:00</td>\n",
       "      <td>NaN</td>\n",
       "      <td>2</td>\n",
       "      <td>2</td>\n",
       "      <td>12</td>\n",
       "      <td>2018</td>\n",
       "    </tr>\n",
       "    <tr>\n",
       "      <th>16635</th>\n",
       "      <td>2018-12-26 03:53:00</td>\n",
       "      <td>NaN</td>\n",
       "      <td>3</td>\n",
       "      <td>2</td>\n",
       "      <td>12</td>\n",
       "      <td>2018</td>\n",
       "    </tr>\n",
       "    <tr>\n",
       "      <th>16636</th>\n",
       "      <td>2018-12-26 04:53:00</td>\n",
       "      <td>NaN</td>\n",
       "      <td>4</td>\n",
       "      <td>2</td>\n",
       "      <td>12</td>\n",
       "      <td>2018</td>\n",
       "    </tr>\n",
       "    <tr>\n",
       "      <th>16637</th>\n",
       "      <td>2018-12-26 05:53:00</td>\n",
       "      <td>NaN</td>\n",
       "      <td>5</td>\n",
       "      <td>2</td>\n",
       "      <td>12</td>\n",
       "      <td>2018</td>\n",
       "    </tr>\n",
       "    <tr>\n",
       "      <th>16640</th>\n",
       "      <td>2018-12-26 08:53:00</td>\n",
       "      <td>NaN</td>\n",
       "      <td>8</td>\n",
       "      <td>2</td>\n",
       "      <td>12</td>\n",
       "      <td>2018</td>\n",
       "    </tr>\n",
       "    <tr>\n",
       "      <th>16641</th>\n",
       "      <td>2018-12-26 09:53:00</td>\n",
       "      <td>NaN</td>\n",
       "      <td>9</td>\n",
       "      <td>2</td>\n",
       "      <td>12</td>\n",
       "      <td>2018</td>\n",
       "    </tr>\n",
       "    <tr>\n",
       "      <th>16642</th>\n",
       "      <td>2018-12-26 10:53:00</td>\n",
       "      <td>NaN</td>\n",
       "      <td>10</td>\n",
       "      <td>2</td>\n",
       "      <td>12</td>\n",
       "      <td>2018</td>\n",
       "    </tr>\n",
       "    <tr>\n",
       "      <th>16643</th>\n",
       "      <td>2018-12-26 11:53:00</td>\n",
       "      <td>NaN</td>\n",
       "      <td>11</td>\n",
       "      <td>2</td>\n",
       "      <td>12</td>\n",
       "      <td>2018</td>\n",
       "    </tr>\n",
       "    <tr>\n",
       "      <th>20257</th>\n",
       "      <td>2019-05-26 01:53:00</td>\n",
       "      <td>NaN</td>\n",
       "      <td>1</td>\n",
       "      <td>6</td>\n",
       "      <td>5</td>\n",
       "      <td>2019</td>\n",
       "    </tr>\n",
       "    <tr>\n",
       "      <th>20258</th>\n",
       "      <td>2019-05-26 02:53:00</td>\n",
       "      <td>NaN</td>\n",
       "      <td>2</td>\n",
       "      <td>6</td>\n",
       "      <td>5</td>\n",
       "      <td>2019</td>\n",
       "    </tr>\n",
       "    <tr>\n",
       "      <th>20259</th>\n",
       "      <td>2019-05-26 03:53:00</td>\n",
       "      <td>NaN</td>\n",
       "      <td>3</td>\n",
       "      <td>6</td>\n",
       "      <td>5</td>\n",
       "      <td>2019</td>\n",
       "    </tr>\n",
       "    <tr>\n",
       "      <th>20263</th>\n",
       "      <td>2019-05-26 07:53:00</td>\n",
       "      <td>NaN</td>\n",
       "      <td>7</td>\n",
       "      <td>6</td>\n",
       "      <td>5</td>\n",
       "      <td>2019</td>\n",
       "    </tr>\n",
       "  </tbody>\n",
       "</table>\n",
       "</div>"
      ],
      "text/plain": [
       "                     date  temp  hour  weekday  month  year\n",
       "15156 2018-10-25 12:53:00   NaN    12        3     10  2018\n",
       "16610 2018-12-25 02:53:00   NaN     2        1     12  2018\n",
       "16611 2018-12-25 03:53:00   NaN     3        1     12  2018\n",
       "16612 2018-12-25 04:53:00   NaN     4        1     12  2018\n",
       "16613 2018-12-25 05:53:00   NaN     5        1     12  2018\n",
       "16614 2018-12-25 06:53:00   NaN     6        1     12  2018\n",
       "16615 2018-12-25 07:53:00   NaN     7        1     12  2018\n",
       "16616 2018-12-25 08:53:00   NaN     8        1     12  2018\n",
       "16617 2018-12-25 09:53:00   NaN     9        1     12  2018\n",
       "16618 2018-12-25 10:53:00   NaN    10        1     12  2018\n",
       "16619 2018-12-25 11:53:00   NaN    11        1     12  2018\n",
       "16620 2018-12-25 12:53:00   NaN    12        1     12  2018\n",
       "16621 2018-12-25 13:53:00   NaN    13        1     12  2018\n",
       "16622 2018-12-25 14:53:00   NaN    14        1     12  2018\n",
       "16623 2018-12-25 15:53:00   NaN    15        1     12  2018\n",
       "16624 2018-12-25 16:53:00   NaN    16        1     12  2018\n",
       "16625 2018-12-25 17:53:00   NaN    17        1     12  2018\n",
       "16626 2018-12-25 18:53:00   NaN    18        1     12  2018\n",
       "16627 2018-12-25 19:53:00   NaN    19        1     12  2018\n",
       "16628 2018-12-25 20:53:00   NaN    20        1     12  2018\n",
       "16629 2018-12-25 21:53:00   NaN    21        1     12  2018\n",
       "16630 2018-12-25 22:53:00   NaN    22        1     12  2018\n",
       "16631 2018-12-25 23:53:00   NaN    23        1     12  2018\n",
       "16632 2018-12-26 00:53:00   NaN     0        2     12  2018\n",
       "16633 2018-12-26 01:53:00   NaN     1        2     12  2018\n",
       "16634 2018-12-26 02:53:00   NaN     2        2     12  2018\n",
       "16635 2018-12-26 03:53:00   NaN     3        2     12  2018\n",
       "16636 2018-12-26 04:53:00   NaN     4        2     12  2018\n",
       "16637 2018-12-26 05:53:00   NaN     5        2     12  2018\n",
       "16640 2018-12-26 08:53:00   NaN     8        2     12  2018\n",
       "16641 2018-12-26 09:53:00   NaN     9        2     12  2018\n",
       "16642 2018-12-26 10:53:00   NaN    10        2     12  2018\n",
       "16643 2018-12-26 11:53:00   NaN    11        2     12  2018\n",
       "20257 2019-05-26 01:53:00   NaN     1        6      5  2019\n",
       "20258 2019-05-26 02:53:00   NaN     2        6      5  2019\n",
       "20259 2019-05-26 03:53:00   NaN     3        6      5  2019\n",
       "20263 2019-05-26 07:53:00   NaN     7        6      5  2019"
      ]
     },
     "execution_count": 33,
     "metadata": {},
     "output_type": "execute_result"
    }
   ],
   "source": [
    "df[bool_series]"
   ]
  },
  {
   "cell_type": "code",
   "execution_count": 34,
   "id": "b0cec6a8-2f43-4fd3-af81-85efce58ec2f",
   "metadata": {},
   "outputs": [
    {
     "data": {
      "text/plain": [
       "date       37\n",
       "temp        0\n",
       "hour       37\n",
       "weekday    37\n",
       "month      37\n",
       "year       37\n",
       "dtype: int64"
      ]
     },
     "execution_count": 34,
     "metadata": {},
     "output_type": "execute_result"
    }
   ],
   "source": [
    "df[bool_series].count()"
   ]
  },
  {
   "cell_type": "markdown",
   "id": "d0bff061-5616-4aaa-a5c5-860ed64e836a",
   "metadata": {},
   "source": [
    "# to interpolate the missing values"
   ]
  },
  {
   "cell_type": "code",
   "execution_count": 42,
   "id": "cfc440f9-7b7d-4216-be24-46bd25eae691",
   "metadata": {},
   "outputs": [],
   "source": [
    "df = df.interpolate(method ='linear', limit_direction ='forward')"
   ]
  },
  {
   "cell_type": "markdown",
   "id": "5fb46457-8260-4416-91d3-cfa642f45f59",
   "metadata": {},
   "source": [
    "# checking the interpolation results"
   ]
  },
  {
   "cell_type": "code",
   "execution_count": 43,
   "id": "509e709f-3e75-4329-b27a-4c468efd1c09",
   "metadata": {},
   "outputs": [],
   "source": [
    "bool_series = pd.isnull(df['temp'])"
   ]
  },
  {
   "cell_type": "code",
   "execution_count": 45,
   "id": "3fd43feb-56ad-40be-adb4-c9c943069248",
   "metadata": {},
   "outputs": [
    {
     "data": {
      "text/plain": [
       "date       0\n",
       "temp       0\n",
       "hour       0\n",
       "weekday    0\n",
       "month      0\n",
       "year       0\n",
       "dtype: int64"
      ]
     },
     "execution_count": 45,
     "metadata": {},
     "output_type": "execute_result"
    }
   ],
   "source": [
    "df[bool_series].count()"
   ]
  },
  {
   "cell_type": "code",
   "execution_count": 46,
   "id": "c35e9d84-b5f9-4051-8b22-9327d4b2308e",
   "metadata": {},
   "outputs": [
    {
     "data": {
      "text/plain": [
       "date       26280\n",
       "temp       26280\n",
       "hour       26280\n",
       "weekday    26280\n",
       "month      26280\n",
       "year       26280\n",
       "dtype: int64"
      ]
     },
     "execution_count": 46,
     "metadata": {},
     "output_type": "execute_result"
    }
   ],
   "source": [
    "df.count()"
   ]
  },
  {
   "cell_type": "markdown",
   "id": "c790dfca-b998-416f-903e-5378a73a00f4",
   "metadata": {},
   "source": [
    "# reading the energy data"
   ]
  },
  {
   "cell_type": "code",
   "execution_count": 47,
   "id": "e6705cec-e50d-4039-bc7d-66a13d6aff3a",
   "metadata": {},
   "outputs": [],
   "source": [
    "pw = pd.read_csv(\"C:\\SS\\Projects\\TimeSeries\\data\\hrl_load_metered - 20170201-20200131.csv\")"
   ]
  },
  {
   "cell_type": "code",
   "execution_count": 48,
   "id": "4748f626-d01f-4a67-9191-5fdfa68c8ac3",
   "metadata": {},
   "outputs": [
    {
     "data": {
      "text/html": [
       "<div>\n",
       "<style scoped>\n",
       "    .dataframe tbody tr th:only-of-type {\n",
       "        vertical-align: middle;\n",
       "    }\n",
       "\n",
       "    .dataframe tbody tr th {\n",
       "        vertical-align: top;\n",
       "    }\n",
       "\n",
       "    .dataframe thead th {\n",
       "        text-align: right;\n",
       "    }\n",
       "</style>\n",
       "<table border=\"1\" class=\"dataframe\">\n",
       "  <thead>\n",
       "    <tr style=\"text-align: right;\">\n",
       "      <th></th>\n",
       "      <th>datetime_beginning_utc</th>\n",
       "      <th>datetime_beginning_ept</th>\n",
       "      <th>nerc_region</th>\n",
       "      <th>mkt_region</th>\n",
       "      <th>zone</th>\n",
       "      <th>load_area</th>\n",
       "      <th>mw</th>\n",
       "      <th>is_verified</th>\n",
       "    </tr>\n",
       "  </thead>\n",
       "  <tbody>\n",
       "    <tr>\n",
       "      <th>0</th>\n",
       "      <td>2/1/2017 5:00</td>\n",
       "      <td>2/1/2017 0:00</td>\n",
       "      <td>RFC</td>\n",
       "      <td>WEST</td>\n",
       "      <td>DUQ</td>\n",
       "      <td>DUQ</td>\n",
       "      <td>1419.881</td>\n",
       "      <td>True</td>\n",
       "    </tr>\n",
       "    <tr>\n",
       "      <th>1</th>\n",
       "      <td>2/1/2017 6:00</td>\n",
       "      <td>2/1/2017 1:00</td>\n",
       "      <td>RFC</td>\n",
       "      <td>WEST</td>\n",
       "      <td>DUQ</td>\n",
       "      <td>DUQ</td>\n",
       "      <td>1379.505</td>\n",
       "      <td>True</td>\n",
       "    </tr>\n",
       "    <tr>\n",
       "      <th>2</th>\n",
       "      <td>2/1/2017 7:00</td>\n",
       "      <td>2/1/2017 2:00</td>\n",
       "      <td>RFC</td>\n",
       "      <td>WEST</td>\n",
       "      <td>DUQ</td>\n",
       "      <td>DUQ</td>\n",
       "      <td>1366.106</td>\n",
       "      <td>True</td>\n",
       "    </tr>\n",
       "    <tr>\n",
       "      <th>3</th>\n",
       "      <td>2/1/2017 8:00</td>\n",
       "      <td>2/1/2017 3:00</td>\n",
       "      <td>RFC</td>\n",
       "      <td>WEST</td>\n",
       "      <td>DUQ</td>\n",
       "      <td>DUQ</td>\n",
       "      <td>1364.453</td>\n",
       "      <td>True</td>\n",
       "    </tr>\n",
       "    <tr>\n",
       "      <th>4</th>\n",
       "      <td>2/1/2017 9:00</td>\n",
       "      <td>2/1/2017 4:00</td>\n",
       "      <td>RFC</td>\n",
       "      <td>WEST</td>\n",
       "      <td>DUQ</td>\n",
       "      <td>DUQ</td>\n",
       "      <td>1391.265</td>\n",
       "      <td>True</td>\n",
       "    </tr>\n",
       "  </tbody>\n",
       "</table>\n",
       "</div>"
      ],
      "text/plain": [
       "  datetime_beginning_utc datetime_beginning_ept nerc_region mkt_region zone  \\\n",
       "0          2/1/2017 5:00          2/1/2017 0:00         RFC       WEST  DUQ   \n",
       "1          2/1/2017 6:00          2/1/2017 1:00         RFC       WEST  DUQ   \n",
       "2          2/1/2017 7:00          2/1/2017 2:00         RFC       WEST  DUQ   \n",
       "3          2/1/2017 8:00          2/1/2017 3:00         RFC       WEST  DUQ   \n",
       "4          2/1/2017 9:00          2/1/2017 4:00         RFC       WEST  DUQ   \n",
       "\n",
       "  load_area        mw  is_verified  \n",
       "0       DUQ  1419.881         True  \n",
       "1       DUQ  1379.505         True  \n",
       "2       DUQ  1366.106         True  \n",
       "3       DUQ  1364.453         True  \n",
       "4       DUQ  1391.265         True  "
      ]
     },
     "execution_count": 48,
     "metadata": {},
     "output_type": "execute_result"
    }
   ],
   "source": [
    "pw.head()"
   ]
  },
  {
   "cell_type": "markdown",
   "id": "a9730e33-4849-48db-b0bd-6cf838b98f8c",
   "metadata": {},
   "source": [
    "# dropping columns"
   ]
  },
  {
   "cell_type": "code",
   "execution_count": 49,
   "id": "95ac2ed4-7596-4f73-86cf-c7ed58a2f551",
   "metadata": {},
   "outputs": [],
   "source": [
    "pw.drop(['datetime_beginning_utc','nerc_region','mkt_region','zone','load_area','is_verified'], inplace=True, axis=1)"
   ]
  },
  {
   "cell_type": "code",
   "execution_count": 50,
   "id": "1c508b25-ee2f-44b5-92f8-d1b166e007ea",
   "metadata": {},
   "outputs": [
    {
     "data": {
      "text/html": [
       "<div>\n",
       "<style scoped>\n",
       "    .dataframe tbody tr th:only-of-type {\n",
       "        vertical-align: middle;\n",
       "    }\n",
       "\n",
       "    .dataframe tbody tr th {\n",
       "        vertical-align: top;\n",
       "    }\n",
       "\n",
       "    .dataframe thead th {\n",
       "        text-align: right;\n",
       "    }\n",
       "</style>\n",
       "<table border=\"1\" class=\"dataframe\">\n",
       "  <thead>\n",
       "    <tr style=\"text-align: right;\">\n",
       "      <th></th>\n",
       "      <th>datetime_beginning_ept</th>\n",
       "      <th>mw</th>\n",
       "    </tr>\n",
       "  </thead>\n",
       "  <tbody>\n",
       "    <tr>\n",
       "      <th>0</th>\n",
       "      <td>2/1/2017 0:00</td>\n",
       "      <td>1419.881</td>\n",
       "    </tr>\n",
       "    <tr>\n",
       "      <th>1</th>\n",
       "      <td>2/1/2017 1:00</td>\n",
       "      <td>1379.505</td>\n",
       "    </tr>\n",
       "    <tr>\n",
       "      <th>2</th>\n",
       "      <td>2/1/2017 2:00</td>\n",
       "      <td>1366.106</td>\n",
       "    </tr>\n",
       "    <tr>\n",
       "      <th>3</th>\n",
       "      <td>2/1/2017 3:00</td>\n",
       "      <td>1364.453</td>\n",
       "    </tr>\n",
       "    <tr>\n",
       "      <th>4</th>\n",
       "      <td>2/1/2017 4:00</td>\n",
       "      <td>1391.265</td>\n",
       "    </tr>\n",
       "  </tbody>\n",
       "</table>\n",
       "</div>"
      ],
      "text/plain": [
       "  datetime_beginning_ept        mw\n",
       "0          2/1/2017 0:00  1419.881\n",
       "1          2/1/2017 1:00  1379.505\n",
       "2          2/1/2017 2:00  1366.106\n",
       "3          2/1/2017 3:00  1364.453\n",
       "4          2/1/2017 4:00  1391.265"
      ]
     },
     "execution_count": 50,
     "metadata": {},
     "output_type": "execute_result"
    }
   ],
   "source": [
    "pw.head()"
   ]
  },
  {
   "cell_type": "markdown",
   "id": "eb1cb6b3-654d-41ae-b403-587e495300c8",
   "metadata": {},
   "source": [
    "# checking data types"
   ]
  },
  {
   "cell_type": "code",
   "execution_count": 51,
   "id": "817bfcb6-661a-464d-a6e1-17ab5cc6a269",
   "metadata": {},
   "outputs": [
    {
     "data": {
      "text/plain": [
       "datetime_beginning_ept     object\n",
       "mw                        float64\n",
       "dtype: object"
      ]
     },
     "execution_count": 51,
     "metadata": {},
     "output_type": "execute_result"
    }
   ],
   "source": [
    "pw.dtypes"
   ]
  },
  {
   "cell_type": "code",
   "execution_count": 52,
   "id": "a7a9d3c0-87a9-4b57-ad4c-deef56f1985b",
   "metadata": {},
   "outputs": [],
   "source": [
    "pw[\"datetime_beginning_ept\"] = pd.to_datetime(pw[\"datetime_beginning_ept\"])"
   ]
  },
  {
   "cell_type": "code",
   "execution_count": 53,
   "id": "e0eff866-3db1-4438-9747-d99269818530",
   "metadata": {},
   "outputs": [
    {
     "data": {
      "text/plain": [
       "datetime_beginning_ept    datetime64[ns]\n",
       "mw                               float64\n",
       "dtype: object"
      ]
     },
     "execution_count": 53,
     "metadata": {},
     "output_type": "execute_result"
    }
   ],
   "source": [
    "pw.dtypes"
   ]
  },
  {
   "cell_type": "code",
   "execution_count": 54,
   "id": "4f1bf7ab-9407-4d7d-be4a-c62508744eee",
   "metadata": {},
   "outputs": [
    {
     "data": {
      "text/plain": [
       "datetime_beginning_ept    26280\n",
       "mw                        26280\n",
       "dtype: int64"
      ]
     },
     "execution_count": 54,
     "metadata": {},
     "output_type": "execute_result"
    }
   ],
   "source": [
    "pw.count()"
   ]
  },
  {
   "cell_type": "markdown",
   "id": "4286c470-dbea-41c2-82e7-e758b4169ac5",
   "metadata": {},
   "source": [
    "# preparing the merge - add columns to use as indexes"
   ]
  },
  {
   "cell_type": "code",
   "execution_count": 56,
   "id": "2bb340b8-fd32-48b5-b24e-459ed29a04d3",
   "metadata": {},
   "outputs": [
    {
     "data": {
      "text/html": [
       "<div>\n",
       "<style scoped>\n",
       "    .dataframe tbody tr th:only-of-type {\n",
       "        vertical-align: middle;\n",
       "    }\n",
       "\n",
       "    .dataframe tbody tr th {\n",
       "        vertical-align: top;\n",
       "    }\n",
       "\n",
       "    .dataframe thead th {\n",
       "        text-align: right;\n",
       "    }\n",
       "</style>\n",
       "<table border=\"1\" class=\"dataframe\">\n",
       "  <thead>\n",
       "    <tr style=\"text-align: right;\">\n",
       "      <th></th>\n",
       "      <th>datetime_beginning_ept</th>\n",
       "      <th>mw</th>\n",
       "    </tr>\n",
       "  </thead>\n",
       "  <tbody>\n",
       "    <tr>\n",
       "      <th>0</th>\n",
       "      <td>2017-02-01 00:00:00</td>\n",
       "      <td>1419.881</td>\n",
       "    </tr>\n",
       "    <tr>\n",
       "      <th>1</th>\n",
       "      <td>2017-02-01 01:00:00</td>\n",
       "      <td>1379.505</td>\n",
       "    </tr>\n",
       "    <tr>\n",
       "      <th>2</th>\n",
       "      <td>2017-02-01 02:00:00</td>\n",
       "      <td>1366.106</td>\n",
       "    </tr>\n",
       "    <tr>\n",
       "      <th>3</th>\n",
       "      <td>2017-02-01 03:00:00</td>\n",
       "      <td>1364.453</td>\n",
       "    </tr>\n",
       "    <tr>\n",
       "      <th>4</th>\n",
       "      <td>2017-02-01 04:00:00</td>\n",
       "      <td>1391.265</td>\n",
       "    </tr>\n",
       "  </tbody>\n",
       "</table>\n",
       "</div>"
      ],
      "text/plain": [
       "  datetime_beginning_ept        mw\n",
       "0    2017-02-01 00:00:00  1419.881\n",
       "1    2017-02-01 01:00:00  1379.505\n",
       "2    2017-02-01 02:00:00  1366.106\n",
       "3    2017-02-01 03:00:00  1364.453\n",
       "4    2017-02-01 04:00:00  1391.265"
      ]
     },
     "execution_count": 56,
     "metadata": {},
     "output_type": "execute_result"
    }
   ],
   "source": [
    "pw.head()"
   ]
  },
  {
   "cell_type": "code",
   "execution_count": 57,
   "id": "0388f393-9975-4b6f-9a40-93931e2ed9fa",
   "metadata": {},
   "outputs": [],
   "source": [
    "pw['pw_date'] = pw['datetime_beginning_ept'].dt.date"
   ]
  },
  {
   "cell_type": "code",
   "execution_count": 58,
   "id": "e6ee7e8d-787a-42bf-9684-6b70f396c7cc",
   "metadata": {},
   "outputs": [],
   "source": [
    "pw['pw_hour'] = pw['datetime_beginning_ept'].dt.hour"
   ]
  },
  {
   "cell_type": "code",
   "execution_count": 59,
   "id": "6bb68846-f94a-4e08-9ce4-51b3be800d2b",
   "metadata": {},
   "outputs": [
    {
     "data": {
      "text/html": [
       "<div>\n",
       "<style scoped>\n",
       "    .dataframe tbody tr th:only-of-type {\n",
       "        vertical-align: middle;\n",
       "    }\n",
       "\n",
       "    .dataframe tbody tr th {\n",
       "        vertical-align: top;\n",
       "    }\n",
       "\n",
       "    .dataframe thead th {\n",
       "        text-align: right;\n",
       "    }\n",
       "</style>\n",
       "<table border=\"1\" class=\"dataframe\">\n",
       "  <thead>\n",
       "    <tr style=\"text-align: right;\">\n",
       "      <th></th>\n",
       "      <th>datetime_beginning_ept</th>\n",
       "      <th>mw</th>\n",
       "      <th>pw_date</th>\n",
       "      <th>pw_hour</th>\n",
       "    </tr>\n",
       "  </thead>\n",
       "  <tbody>\n",
       "    <tr>\n",
       "      <th>0</th>\n",
       "      <td>2017-02-01 00:00:00</td>\n",
       "      <td>1419.881</td>\n",
       "      <td>2017-02-01</td>\n",
       "      <td>0</td>\n",
       "    </tr>\n",
       "    <tr>\n",
       "      <th>1</th>\n",
       "      <td>2017-02-01 01:00:00</td>\n",
       "      <td>1379.505</td>\n",
       "      <td>2017-02-01</td>\n",
       "      <td>1</td>\n",
       "    </tr>\n",
       "    <tr>\n",
       "      <th>2</th>\n",
       "      <td>2017-02-01 02:00:00</td>\n",
       "      <td>1366.106</td>\n",
       "      <td>2017-02-01</td>\n",
       "      <td>2</td>\n",
       "    </tr>\n",
       "    <tr>\n",
       "      <th>3</th>\n",
       "      <td>2017-02-01 03:00:00</td>\n",
       "      <td>1364.453</td>\n",
       "      <td>2017-02-01</td>\n",
       "      <td>3</td>\n",
       "    </tr>\n",
       "    <tr>\n",
       "      <th>4</th>\n",
       "      <td>2017-02-01 04:00:00</td>\n",
       "      <td>1391.265</td>\n",
       "      <td>2017-02-01</td>\n",
       "      <td>4</td>\n",
       "    </tr>\n",
       "  </tbody>\n",
       "</table>\n",
       "</div>"
      ],
      "text/plain": [
       "  datetime_beginning_ept        mw     pw_date  pw_hour\n",
       "0    2017-02-01 00:00:00  1419.881  2017-02-01        0\n",
       "1    2017-02-01 01:00:00  1379.505  2017-02-01        1\n",
       "2    2017-02-01 02:00:00  1366.106  2017-02-01        2\n",
       "3    2017-02-01 03:00:00  1364.453  2017-02-01        3\n",
       "4    2017-02-01 04:00:00  1391.265  2017-02-01        4"
      ]
     },
     "execution_count": 59,
     "metadata": {},
     "output_type": "execute_result"
    }
   ],
   "source": [
    "pw.head()"
   ]
  },
  {
   "cell_type": "code",
   "execution_count": 60,
   "id": "878528e7-ff0d-49d1-9473-f5fe54df85d8",
   "metadata": {},
   "outputs": [
    {
     "data": {
      "text/html": [
       "<div>\n",
       "<style scoped>\n",
       "    .dataframe tbody tr th:only-of-type {\n",
       "        vertical-align: middle;\n",
       "    }\n",
       "\n",
       "    .dataframe tbody tr th {\n",
       "        vertical-align: top;\n",
       "    }\n",
       "\n",
       "    .dataframe thead th {\n",
       "        text-align: right;\n",
       "    }\n",
       "</style>\n",
       "<table border=\"1\" class=\"dataframe\">\n",
       "  <thead>\n",
       "    <tr style=\"text-align: right;\">\n",
       "      <th></th>\n",
       "      <th>date</th>\n",
       "      <th>temp</th>\n",
       "      <th>hour</th>\n",
       "      <th>weekday</th>\n",
       "      <th>month</th>\n",
       "      <th>year</th>\n",
       "    </tr>\n",
       "  </thead>\n",
       "  <tbody>\n",
       "    <tr>\n",
       "      <th>0</th>\n",
       "      <td>2017-02-01 00:53:00</td>\n",
       "      <td>37.0</td>\n",
       "      <td>0</td>\n",
       "      <td>2</td>\n",
       "      <td>2</td>\n",
       "      <td>2017</td>\n",
       "    </tr>\n",
       "    <tr>\n",
       "      <th>1</th>\n",
       "      <td>2017-02-01 01:53:00</td>\n",
       "      <td>37.0</td>\n",
       "      <td>1</td>\n",
       "      <td>2</td>\n",
       "      <td>2</td>\n",
       "      <td>2017</td>\n",
       "    </tr>\n",
       "    <tr>\n",
       "      <th>2</th>\n",
       "      <td>2017-02-01 02:53:00</td>\n",
       "      <td>36.0</td>\n",
       "      <td>2</td>\n",
       "      <td>2</td>\n",
       "      <td>2</td>\n",
       "      <td>2017</td>\n",
       "    </tr>\n",
       "    <tr>\n",
       "      <th>3</th>\n",
       "      <td>2017-02-01 03:53:00</td>\n",
       "      <td>36.0</td>\n",
       "      <td>3</td>\n",
       "      <td>2</td>\n",
       "      <td>2</td>\n",
       "      <td>2017</td>\n",
       "    </tr>\n",
       "    <tr>\n",
       "      <th>4</th>\n",
       "      <td>2017-02-01 04:53:00</td>\n",
       "      <td>36.0</td>\n",
       "      <td>4</td>\n",
       "      <td>2</td>\n",
       "      <td>2</td>\n",
       "      <td>2017</td>\n",
       "    </tr>\n",
       "  </tbody>\n",
       "</table>\n",
       "</div>"
      ],
      "text/plain": [
       "                 date  temp  hour  weekday  month  year\n",
       "0 2017-02-01 00:53:00  37.0     0        2      2  2017\n",
       "1 2017-02-01 01:53:00  37.0     1        2      2  2017\n",
       "2 2017-02-01 02:53:00  36.0     2        2      2  2017\n",
       "3 2017-02-01 03:53:00  36.0     3        2      2  2017\n",
       "4 2017-02-01 04:53:00  36.0     4        2      2  2017"
      ]
     },
     "execution_count": 60,
     "metadata": {},
     "output_type": "execute_result"
    }
   ],
   "source": [
    "df.head()"
   ]
  },
  {
   "cell_type": "code",
   "execution_count": 61,
   "id": "7119633d-54ba-4cd2-960a-67fa2475890a",
   "metadata": {},
   "outputs": [],
   "source": [
    "df['df_date'] = df['date'].dt.date"
   ]
  },
  {
   "cell_type": "code",
   "execution_count": 62,
   "id": "60e09373-6322-42d2-ad3e-06f25050feef",
   "metadata": {},
   "outputs": [
    {
     "data": {
      "text/html": [
       "<div>\n",
       "<style scoped>\n",
       "    .dataframe tbody tr th:only-of-type {\n",
       "        vertical-align: middle;\n",
       "    }\n",
       "\n",
       "    .dataframe tbody tr th {\n",
       "        vertical-align: top;\n",
       "    }\n",
       "\n",
       "    .dataframe thead th {\n",
       "        text-align: right;\n",
       "    }\n",
       "</style>\n",
       "<table border=\"1\" class=\"dataframe\">\n",
       "  <thead>\n",
       "    <tr style=\"text-align: right;\">\n",
       "      <th></th>\n",
       "      <th>date</th>\n",
       "      <th>temp</th>\n",
       "      <th>hour</th>\n",
       "      <th>weekday</th>\n",
       "      <th>month</th>\n",
       "      <th>year</th>\n",
       "      <th>df_date</th>\n",
       "    </tr>\n",
       "  </thead>\n",
       "  <tbody>\n",
       "    <tr>\n",
       "      <th>0</th>\n",
       "      <td>2017-02-01 00:53:00</td>\n",
       "      <td>37.0</td>\n",
       "      <td>0</td>\n",
       "      <td>2</td>\n",
       "      <td>2</td>\n",
       "      <td>2017</td>\n",
       "      <td>2017-02-01</td>\n",
       "    </tr>\n",
       "    <tr>\n",
       "      <th>1</th>\n",
       "      <td>2017-02-01 01:53:00</td>\n",
       "      <td>37.0</td>\n",
       "      <td>1</td>\n",
       "      <td>2</td>\n",
       "      <td>2</td>\n",
       "      <td>2017</td>\n",
       "      <td>2017-02-01</td>\n",
       "    </tr>\n",
       "    <tr>\n",
       "      <th>2</th>\n",
       "      <td>2017-02-01 02:53:00</td>\n",
       "      <td>36.0</td>\n",
       "      <td>2</td>\n",
       "      <td>2</td>\n",
       "      <td>2</td>\n",
       "      <td>2017</td>\n",
       "      <td>2017-02-01</td>\n",
       "    </tr>\n",
       "    <tr>\n",
       "      <th>3</th>\n",
       "      <td>2017-02-01 03:53:00</td>\n",
       "      <td>36.0</td>\n",
       "      <td>3</td>\n",
       "      <td>2</td>\n",
       "      <td>2</td>\n",
       "      <td>2017</td>\n",
       "      <td>2017-02-01</td>\n",
       "    </tr>\n",
       "    <tr>\n",
       "      <th>4</th>\n",
       "      <td>2017-02-01 04:53:00</td>\n",
       "      <td>36.0</td>\n",
       "      <td>4</td>\n",
       "      <td>2</td>\n",
       "      <td>2</td>\n",
       "      <td>2017</td>\n",
       "      <td>2017-02-01</td>\n",
       "    </tr>\n",
       "  </tbody>\n",
       "</table>\n",
       "</div>"
      ],
      "text/plain": [
       "                 date  temp  hour  weekday  month  year     df_date\n",
       "0 2017-02-01 00:53:00  37.0     0        2      2  2017  2017-02-01\n",
       "1 2017-02-01 01:53:00  37.0     1        2      2  2017  2017-02-01\n",
       "2 2017-02-01 02:53:00  36.0     2        2      2  2017  2017-02-01\n",
       "3 2017-02-01 03:53:00  36.0     3        2      2  2017  2017-02-01\n",
       "4 2017-02-01 04:53:00  36.0     4        2      2  2017  2017-02-01"
      ]
     },
     "execution_count": 62,
     "metadata": {},
     "output_type": "execute_result"
    }
   ],
   "source": [
    "df.head()"
   ]
  },
  {
   "cell_type": "code",
   "execution_count": 63,
   "id": "c6b10c2c-b6ec-4bfa-8084-c7e0379b9338",
   "metadata": {},
   "outputs": [],
   "source": [
    "df = df.merge(pw, how = \"left\", left_on = [\"df_date\",\"hour\"], right_on = [\"pw_date\",\"pw_hour\"])"
   ]
  },
  {
   "cell_type": "code",
   "execution_count": 67,
   "id": "718a3d44-92e5-4be8-8ee1-9c18de0692f8",
   "metadata": {},
   "outputs": [],
   "source": [
    "df.drop(['df_date','datetime_beginning_ept','pw_date','pw_hour'], inplace=True, axis=1)"
   ]
  },
  {
   "cell_type": "code",
   "execution_count": 69,
   "id": "eb14e78a-dd6f-4cb7-9601-3aa5a7fe8362",
   "metadata": {},
   "outputs": [
    {
     "data": {
      "text/html": [
       "<div>\n",
       "<style scoped>\n",
       "    .dataframe tbody tr th:only-of-type {\n",
       "        vertical-align: middle;\n",
       "    }\n",
       "\n",
       "    .dataframe tbody tr th {\n",
       "        vertical-align: top;\n",
       "    }\n",
       "\n",
       "    .dataframe thead th {\n",
       "        text-align: right;\n",
       "    }\n",
       "</style>\n",
       "<table border=\"1\" class=\"dataframe\">\n",
       "  <thead>\n",
       "    <tr style=\"text-align: right;\">\n",
       "      <th></th>\n",
       "      <th>date</th>\n",
       "      <th>temp</th>\n",
       "      <th>hour</th>\n",
       "      <th>weekday</th>\n",
       "      <th>month</th>\n",
       "      <th>year</th>\n",
       "      <th>mw</th>\n",
       "    </tr>\n",
       "  </thead>\n",
       "  <tbody>\n",
       "    <tr>\n",
       "      <th>0</th>\n",
       "      <td>2017-02-01 00:53:00</td>\n",
       "      <td>37.0</td>\n",
       "      <td>0</td>\n",
       "      <td>2</td>\n",
       "      <td>2</td>\n",
       "      <td>2017</td>\n",
       "      <td>1419.881</td>\n",
       "    </tr>\n",
       "    <tr>\n",
       "      <th>1</th>\n",
       "      <td>2017-02-01 01:53:00</td>\n",
       "      <td>37.0</td>\n",
       "      <td>1</td>\n",
       "      <td>2</td>\n",
       "      <td>2</td>\n",
       "      <td>2017</td>\n",
       "      <td>1379.505</td>\n",
       "    </tr>\n",
       "    <tr>\n",
       "      <th>2</th>\n",
       "      <td>2017-02-01 02:53:00</td>\n",
       "      <td>36.0</td>\n",
       "      <td>2</td>\n",
       "      <td>2</td>\n",
       "      <td>2</td>\n",
       "      <td>2017</td>\n",
       "      <td>1366.106</td>\n",
       "    </tr>\n",
       "    <tr>\n",
       "      <th>3</th>\n",
       "      <td>2017-02-01 03:53:00</td>\n",
       "      <td>36.0</td>\n",
       "      <td>3</td>\n",
       "      <td>2</td>\n",
       "      <td>2</td>\n",
       "      <td>2017</td>\n",
       "      <td>1364.453</td>\n",
       "    </tr>\n",
       "    <tr>\n",
       "      <th>4</th>\n",
       "      <td>2017-02-01 04:53:00</td>\n",
       "      <td>36.0</td>\n",
       "      <td>4</td>\n",
       "      <td>2</td>\n",
       "      <td>2</td>\n",
       "      <td>2017</td>\n",
       "      <td>1391.265</td>\n",
       "    </tr>\n",
       "    <tr>\n",
       "      <th>...</th>\n",
       "      <td>...</td>\n",
       "      <td>...</td>\n",
       "      <td>...</td>\n",
       "      <td>...</td>\n",
       "      <td>...</td>\n",
       "      <td>...</td>\n",
       "      <td>...</td>\n",
       "    </tr>\n",
       "    <tr>\n",
       "      <th>26278</th>\n",
       "      <td>2020-01-31 19:53:00</td>\n",
       "      <td>34.0</td>\n",
       "      <td>19</td>\n",
       "      <td>4</td>\n",
       "      <td>1</td>\n",
       "      <td>2020</td>\n",
       "      <td>1618.484</td>\n",
       "    </tr>\n",
       "    <tr>\n",
       "      <th>26279</th>\n",
       "      <td>2020-01-31 20:53:00</td>\n",
       "      <td>33.0</td>\n",
       "      <td>20</td>\n",
       "      <td>4</td>\n",
       "      <td>1</td>\n",
       "      <td>2020</td>\n",
       "      <td>1580.925</td>\n",
       "    </tr>\n",
       "    <tr>\n",
       "      <th>26280</th>\n",
       "      <td>2020-01-31 21:53:00</td>\n",
       "      <td>33.0</td>\n",
       "      <td>21</td>\n",
       "      <td>4</td>\n",
       "      <td>1</td>\n",
       "      <td>2020</td>\n",
       "      <td>1545.354</td>\n",
       "    </tr>\n",
       "    <tr>\n",
       "      <th>26281</th>\n",
       "      <td>2020-01-31 22:53:00</td>\n",
       "      <td>33.0</td>\n",
       "      <td>22</td>\n",
       "      <td>4</td>\n",
       "      <td>1</td>\n",
       "      <td>2020</td>\n",
       "      <td>1478.832</td>\n",
       "    </tr>\n",
       "    <tr>\n",
       "      <th>26282</th>\n",
       "      <td>2020-01-31 23:53:00</td>\n",
       "      <td>34.0</td>\n",
       "      <td>23</td>\n",
       "      <td>4</td>\n",
       "      <td>1</td>\n",
       "      <td>2020</td>\n",
       "      <td>1405.188</td>\n",
       "    </tr>\n",
       "  </tbody>\n",
       "</table>\n",
       "<p>26283 rows × 7 columns</p>\n",
       "</div>"
      ],
      "text/plain": [
       "                     date  temp  hour  weekday  month  year        mw\n",
       "0     2017-02-01 00:53:00  37.0     0        2      2  2017  1419.881\n",
       "1     2017-02-01 01:53:00  37.0     1        2      2  2017  1379.505\n",
       "2     2017-02-01 02:53:00  36.0     2        2      2  2017  1366.106\n",
       "3     2017-02-01 03:53:00  36.0     3        2      2  2017  1364.453\n",
       "4     2017-02-01 04:53:00  36.0     4        2      2  2017  1391.265\n",
       "...                   ...   ...   ...      ...    ...   ...       ...\n",
       "26278 2020-01-31 19:53:00  34.0    19        4      1  2020  1618.484\n",
       "26279 2020-01-31 20:53:00  33.0    20        4      1  2020  1580.925\n",
       "26280 2020-01-31 21:53:00  33.0    21        4      1  2020  1545.354\n",
       "26281 2020-01-31 22:53:00  33.0    22        4      1  2020  1478.832\n",
       "26282 2020-01-31 23:53:00  34.0    23        4      1  2020  1405.188\n",
       "\n",
       "[26283 rows x 7 columns]"
      ]
     },
     "execution_count": 69,
     "metadata": {},
     "output_type": "execute_result"
    }
   ],
   "source": [
    "df"
   ]
  },
  {
   "cell_type": "markdown",
   "id": "abff601a-d7df-4aa6-8b4f-d900bad7a521",
   "metadata": {},
   "source": [
    "# checking NaN values for energy"
   ]
  },
  {
   "cell_type": "code",
   "execution_count": 70,
   "id": "e173c4a1-5b1d-4dda-ab24-e676d0158483",
   "metadata": {},
   "outputs": [],
   "source": [
    "bool_series = pd.isnull(df['mw'])"
   ]
  },
  {
   "cell_type": "code",
   "execution_count": 71,
   "id": "b048f651-ec91-492f-9fc2-ca2c274cee51",
   "metadata": {},
   "outputs": [
    {
     "data": {
      "text/html": [
       "<div>\n",
       "<style scoped>\n",
       "    .dataframe tbody tr th:only-of-type {\n",
       "        vertical-align: middle;\n",
       "    }\n",
       "\n",
       "    .dataframe tbody tr th {\n",
       "        vertical-align: top;\n",
       "    }\n",
       "\n",
       "    .dataframe thead th {\n",
       "        text-align: right;\n",
       "    }\n",
       "</style>\n",
       "<table border=\"1\" class=\"dataframe\">\n",
       "  <thead>\n",
       "    <tr style=\"text-align: right;\">\n",
       "      <th></th>\n",
       "      <th>date</th>\n",
       "      <th>temp</th>\n",
       "      <th>hour</th>\n",
       "      <th>weekday</th>\n",
       "      <th>month</th>\n",
       "      <th>year</th>\n",
       "      <th>mw</th>\n",
       "    </tr>\n",
       "  </thead>\n",
       "  <tbody>\n",
       "    <tr>\n",
       "      <th>938</th>\n",
       "      <td>2017-03-12 02:53:00</td>\n",
       "      <td>17.0</td>\n",
       "      <td>2</td>\n",
       "      <td>6</td>\n",
       "      <td>3</td>\n",
       "      <td>2017</td>\n",
       "      <td>NaN</td>\n",
       "    </tr>\n",
       "    <tr>\n",
       "      <th>9675</th>\n",
       "      <td>2018-03-11 02:53:00</td>\n",
       "      <td>23.0</td>\n",
       "      <td>2</td>\n",
       "      <td>6</td>\n",
       "      <td>3</td>\n",
       "      <td>2018</td>\n",
       "      <td>NaN</td>\n",
       "    </tr>\n",
       "    <tr>\n",
       "      <th>18412</th>\n",
       "      <td>2019-03-10 02:53:00</td>\n",
       "      <td>46.0</td>\n",
       "      <td>2</td>\n",
       "      <td>6</td>\n",
       "      <td>3</td>\n",
       "      <td>2019</td>\n",
       "      <td>NaN</td>\n",
       "    </tr>\n",
       "  </tbody>\n",
       "</table>\n",
       "</div>"
      ],
      "text/plain": [
       "                     date  temp  hour  weekday  month  year  mw\n",
       "938   2017-03-12 02:53:00  17.0     2        6      3  2017 NaN\n",
       "9675  2018-03-11 02:53:00  23.0     2        6      3  2018 NaN\n",
       "18412 2019-03-10 02:53:00  46.0     2        6      3  2019 NaN"
      ]
     },
     "execution_count": 71,
     "metadata": {},
     "output_type": "execute_result"
    }
   ],
   "source": [
    "df[bool_series]"
   ]
  },
  {
   "cell_type": "code",
   "execution_count": 72,
   "id": "62c06291-7db6-4568-9f9f-1fb3eb1dbe96",
   "metadata": {},
   "outputs": [],
   "source": [
    "df = df.interpolate(method ='linear', limit_direction ='forward')"
   ]
  },
  {
   "cell_type": "code",
   "execution_count": 73,
   "id": "3c907ea8-5355-487f-a692-c6386f5f6e56",
   "metadata": {},
   "outputs": [],
   "source": [
    "bool_series = pd.isnull(df['mw'])"
   ]
  },
  {
   "cell_type": "code",
   "execution_count": 75,
   "id": "d5eae2f2-f4ee-4b6b-a4de-e703f4c729cf",
   "metadata": {},
   "outputs": [
    {
     "data": {
      "text/plain": [
       "date       0\n",
       "temp       0\n",
       "hour       0\n",
       "weekday    0\n",
       "month      0\n",
       "year       0\n",
       "mw         0\n",
       "dtype: int64"
      ]
     },
     "execution_count": 75,
     "metadata": {},
     "output_type": "execute_result"
    }
   ],
   "source": [
    "df[bool_series].count()"
   ]
  },
  {
   "cell_type": "markdown",
   "id": "f9b5a009-ce59-415b-8f5d-fefc91b3a219",
   "metadata": {},
   "source": [
    "# create train and test datasets"
   ]
  },
  {
   "cell_type": "code",
   "execution_count": 105,
   "id": "9ca6a09b-8b32-489c-a151-178964332663",
   "metadata": {},
   "outputs": [],
   "source": [
    "train = df[(df['date']>= \"2017-02-01\") & (df['date']< \"2020-01-01\")]"
   ]
  },
  {
   "cell_type": "code",
   "execution_count": 107,
   "id": "06973f71-55d7-4762-ba1b-6a5a109efdf0",
   "metadata": {},
   "outputs": [],
   "source": [
    "test = df[(df['date']>= \"2020-01-01\")]"
   ]
  },
  {
   "cell_type": "code",
   "execution_count": 106,
   "id": "9cc1faa8-b681-46fc-9258-71ab2b601fd1",
   "metadata": {},
   "outputs": [
    {
     "data": {
      "text/plain": [
       "date       25539\n",
       "temp       25539\n",
       "hour       25539\n",
       "weekday    25539\n",
       "month      25539\n",
       "year       25539\n",
       "mw         25539\n",
       "dtype: int64"
      ]
     },
     "execution_count": 106,
     "metadata": {},
     "output_type": "execute_result"
    }
   ],
   "source": [
    "train.count()"
   ]
  },
  {
   "cell_type": "code",
   "execution_count": 108,
   "id": "8163cb81-0ca3-4c13-ab30-1e448eeb37cb",
   "metadata": {},
   "outputs": [
    {
     "data": {
      "text/plain": [
       "date       744\n",
       "temp       744\n",
       "hour       744\n",
       "weekday    744\n",
       "month      744\n",
       "year       744\n",
       "mw         744\n",
       "dtype: int64"
      ]
     },
     "execution_count": 108,
     "metadata": {},
     "output_type": "execute_result"
    }
   ],
   "source": [
    "test.count()"
   ]
  },
  {
   "cell_type": "code",
   "execution_count": 109,
   "id": "7030557a-d2be-42ec-94e6-36149c033e70",
   "metadata": {},
   "outputs": [
    {
     "data": {
      "text/html": [
       "<div>\n",
       "<style scoped>\n",
       "    .dataframe tbody tr th:only-of-type {\n",
       "        vertical-align: middle;\n",
       "    }\n",
       "\n",
       "    .dataframe tbody tr th {\n",
       "        vertical-align: top;\n",
       "    }\n",
       "\n",
       "    .dataframe thead th {\n",
       "        text-align: right;\n",
       "    }\n",
       "</style>\n",
       "<table border=\"1\" class=\"dataframe\">\n",
       "  <thead>\n",
       "    <tr style=\"text-align: right;\">\n",
       "      <th></th>\n",
       "      <th>date</th>\n",
       "      <th>temp</th>\n",
       "      <th>hour</th>\n",
       "      <th>weekday</th>\n",
       "      <th>month</th>\n",
       "      <th>year</th>\n",
       "      <th>mw</th>\n",
       "    </tr>\n",
       "  </thead>\n",
       "  <tbody>\n",
       "    <tr>\n",
       "      <th>0</th>\n",
       "      <td>2017-02-01 00:53:00</td>\n",
       "      <td>37.0</td>\n",
       "      <td>0</td>\n",
       "      <td>2</td>\n",
       "      <td>2</td>\n",
       "      <td>2017</td>\n",
       "      <td>1419.881</td>\n",
       "    </tr>\n",
       "  </tbody>\n",
       "</table>\n",
       "</div>"
      ],
      "text/plain": [
       "                 date  temp  hour  weekday  month  year        mw\n",
       "0 2017-02-01 00:53:00  37.0     0        2      2  2017  1419.881"
      ]
     },
     "execution_count": 109,
     "metadata": {},
     "output_type": "execute_result"
    }
   ],
   "source": [
    "train.head(1)"
   ]
  },
  {
   "cell_type": "code",
   "execution_count": 110,
   "id": "031b769b-4b7f-431b-840f-16a4b43f10ed",
   "metadata": {},
   "outputs": [
    {
     "data": {
      "text/html": [
       "<div>\n",
       "<style scoped>\n",
       "    .dataframe tbody tr th:only-of-type {\n",
       "        vertical-align: middle;\n",
       "    }\n",
       "\n",
       "    .dataframe tbody tr th {\n",
       "        vertical-align: top;\n",
       "    }\n",
       "\n",
       "    .dataframe thead th {\n",
       "        text-align: right;\n",
       "    }\n",
       "</style>\n",
       "<table border=\"1\" class=\"dataframe\">\n",
       "  <thead>\n",
       "    <tr style=\"text-align: right;\">\n",
       "      <th></th>\n",
       "      <th>date</th>\n",
       "      <th>temp</th>\n",
       "      <th>hour</th>\n",
       "      <th>weekday</th>\n",
       "      <th>month</th>\n",
       "      <th>year</th>\n",
       "      <th>mw</th>\n",
       "    </tr>\n",
       "  </thead>\n",
       "  <tbody>\n",
       "    <tr>\n",
       "      <th>25539</th>\n",
       "      <td>2020-01-01 00:53:00</td>\n",
       "      <td>31.0</td>\n",
       "      <td>0</td>\n",
       "      <td>2</td>\n",
       "      <td>1</td>\n",
       "      <td>2020</td>\n",
       "      <td>1363.428</td>\n",
       "    </tr>\n",
       "  </tbody>\n",
       "</table>\n",
       "</div>"
      ],
      "text/plain": [
       "                     date  temp  hour  weekday  month  year        mw\n",
       "25539 2020-01-01 00:53:00  31.0     0        2      1  2020  1363.428"
      ]
     },
     "execution_count": 110,
     "metadata": {},
     "output_type": "execute_result"
    }
   ],
   "source": [
    "test.head(1)"
   ]
  }
 ],
 "metadata": {
  "kernelspec": {
   "display_name": "Python 3",
   "language": "python",
   "name": "python3"
  },
  "language_info": {
   "codemirror_mode": {
    "name": "ipython",
    "version": 3
   },
   "file_extension": ".py",
   "mimetype": "text/x-python",
   "name": "python",
   "nbconvert_exporter": "python",
   "pygments_lexer": "ipython3",
   "version": "3.8.6"
  }
 },
 "nbformat": 4,
 "nbformat_minor": 5
}
